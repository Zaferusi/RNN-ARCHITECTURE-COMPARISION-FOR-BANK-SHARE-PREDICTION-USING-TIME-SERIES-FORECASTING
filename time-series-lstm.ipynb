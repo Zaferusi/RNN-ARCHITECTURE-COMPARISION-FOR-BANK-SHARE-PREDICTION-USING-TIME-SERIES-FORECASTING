{
 "cells": [
  {
   "cell_type": "markdown",
   "id": "dc0a651f",
   "metadata": {},
   "source": [
    "TIME SERIES PREDICTION ABOUT AKBANK SHARE\n",
    "DATA PREPROCCESSING\n",
    "\n",
    "1-DATA READING AND REDUCING THE NUMBER"
   ]
  },
  {
   "cell_type": "code",
   "execution_count": 129,
   "id": "f4f2afc5",
   "metadata": {},
   "outputs": [
    {
     "name": "stdout",
     "output_type": "stream",
     "text": [
      "        Tarih  Şimdi Açılış Yüksek  Düşük     Hac.  Fark %\n",
      "0  26.06.2023  20,42  20,54  20,78  20,24  168,99M   3,18%\n",
      "1  23.06.2023  19,79  19,44  20,14  19,44  255,23M   3,13%\n",
      "2  22.06.2023  19,19  19,30  19,55  18,60  439,66M  -0,62%\n",
      "3  21.06.2023  19,31  19,22  19,39  18,93  171,88M   1,42%\n",
      "4  20.06.2023  19,04  18,51  19,23  18,39  214,51M   2,86% \n",
      "\n",
      "Shape of this dataframe is: (21, 7)\n"
     ]
    }
   ],
   "source": [
    "import pandas as pd\n",
    "import numpy as np\n",
    "import matplotlib.pyplot as plt\n",
    "\n",
    "df=pd.read_csv('AKBANK.csv')\n",
    "df_april=pd.read_csv('AKBNK-nisan-mayıs.csv')\n",
    "print(df.head(5),'\\n')\n",
    "print(f\"Shape of this dataframe is: {df.shape}\")\n"
   ]
  },
  {
   "cell_type": "markdown",
   "id": "91aa9e33",
   "metadata": {},
   "source": [
    "At first we check if dataframe is readable and the shape of dataframe. This first dataset consist of 21 row and 5 columns.\n",
    "This is a small number to evaluate, so add also a few past months data also."
   ]
  },
  {
   "cell_type": "code",
   "execution_count": 130,
   "id": "4474d89f",
   "metadata": {},
   "outputs": [
    {
     "data": {
      "text/plain": [
       "['26.06.2023',\n",
       " '23.06.2023',\n",
       " '22.06.2023',\n",
       " '21.06.2023',\n",
       " '20.06.2023',\n",
       " '19.06.2023',\n",
       " '16.06.2023',\n",
       " '15.06.2023',\n",
       " '14.06.2023',\n",
       " '13.06.2023',\n",
       " '12.06.2023',\n",
       " '09.06.2023',\n",
       " '08.06.2023',\n",
       " '07.06.2023',\n",
       " '06.06.2023',\n",
       " '05.06.2023',\n",
       " '02.06.2023',\n",
       " '01.06.2023',\n",
       " '31.05.2023',\n",
       " '30.05.2023',\n",
       " '29.05.2023',\n",
       " '30.05.2023',\n",
       " '29.05.2023',\n",
       " '26.05.2023',\n",
       " '25.05.2023',\n",
       " '24.05.2023',\n",
       " '23.05.2023',\n",
       " '22.05.2023',\n",
       " '18.05.2023',\n",
       " '17.05.2023',\n",
       " '16.05.2023',\n",
       " '15.05.2023',\n",
       " '12.05.2023',\n",
       " '11.05.2023',\n",
       " '10.05.2023',\n",
       " '09.05.2023',\n",
       " '08.05.2023',\n",
       " '05.05.2023',\n",
       " '04.05.2023',\n",
       " '03.05.2023',\n",
       " '02.05.2023',\n",
       " '28.04.2023',\n",
       " '27.04.2023',\n",
       " '26.04.2023',\n",
       " '25.04.2023',\n",
       " '24.04.2023',\n",
       " '20.04.2023',\n",
       " '19.04.2023',\n",
       " '18.04.2023',\n",
       " '17.04.2023',\n",
       " '14.04.2023',\n",
       " '13.04.2023',\n",
       " '12.04.2023',\n",
       " '11.04.2023',\n",
       " '10.04.2023',\n",
       " '07.04.2023',\n",
       " '06.04.2023',\n",
       " '05.04.2023',\n",
       " '04.04.2023',\n",
       " '03.04.2023',\n",
       " '31.03.2023',\n",
       " '30.03.2023']"
      ]
     },
     "execution_count": 130,
     "metadata": {},
     "output_type": "execute_result"
    }
   ],
   "source": [
    "df=pd.concat([df, df_april])\n",
    "dates=list(df['Tarih'])\n",
    "dates#List of total timestamps AKBANK Share data."
   ]
  },
  {
   "cell_type": "markdown",
   "id": "6104c81b",
   "metadata": {},
   "source": [
    "2-DATA CLEANING-NULL CHECK"
   ]
  },
  {
   "cell_type": "code",
   "execution_count": 131,
   "id": "f3c9a880",
   "metadata": {},
   "outputs": [
    {
     "name": "stdout",
     "output_type": "stream",
     "text": [
      "<class 'pandas.core.frame.DataFrame'>\n",
      "Index: 62 entries, 0 to 40\n",
      "Data columns (total 7 columns):\n",
      " #   Column  Non-Null Count  Dtype \n",
      "---  ------  --------------  ----- \n",
      " 0   Tarih   62 non-null     object\n",
      " 1   Şimdi   62 non-null     object\n",
      " 2   Açılış  62 non-null     object\n",
      " 3   Yüksek  62 non-null     object\n",
      " 4   Düşük   62 non-null     object\n",
      " 5   Hac.    62 non-null     object\n",
      " 6   Fark %  62 non-null     object\n",
      "dtypes: object(7)\n",
      "memory usage: 3.9+ KB\n"
     ]
    }
   ],
   "source": [
    "df.info()#This check is required to operate columns data, as ,f it is not compatiple type we cann't do numerical operations especially."
   ]
  },
  {
   "cell_type": "markdown",
   "id": "780cdf1e",
   "metadata": {},
   "source": [
    "There is no null cell in datasets."
   ]
  },
  {
   "cell_type": "markdown",
   "id": "a8ed71e0",
   "metadata": {},
   "source": [
    "3-DATA CLEANING-DUPLICATED ROWS"
   ]
  },
  {
   "cell_type": "code",
   "execution_count": 132,
   "id": "7492d0d1",
   "metadata": {
    "scrolled": true
   },
   "outputs": [
    {
     "name": "stdout",
     "output_type": "stream",
     "text": [
      "22 is duplicated\n",
      "23 is duplicated\n",
      "None of the rows are duplicated.\n"
     ]
    }
   ],
   "source": [
    "df.duplicated()\n",
    "x=0\n",
    "y=0\n",
    "\n",
    "for i in df.duplicated():\n",
    "    y=y+1\n",
    "    x=x+1\n",
    "    if i==True:\n",
    "        print(f\"{x} is duplicated\")\n",
    "    elif(y==len(df.duplicated())):\n",
    "        print('None of the rows are duplicated.')\n",
    "    else:\n",
    "        continue"
   ]
  },
  {
   "cell_type": "markdown",
   "id": "995da1dd",
   "metadata": {},
   "source": [
    "Note: Duplicated row is regulated manually from csv file."
   ]
  },
  {
   "cell_type": "markdown",
   "id": "12e4e9bb",
   "metadata": {},
   "source": [
    "4-COLUMNS LABEL RENAME"
   ]
  },
  {
   "cell_type": "code",
   "execution_count": 133,
   "id": "6894fefc",
   "metadata": {},
   "outputs": [
    {
     "data": {
      "text/html": [
       "<div>\n",
       "<style scoped>\n",
       "    .dataframe tbody tr th:only-of-type {\n",
       "        vertical-align: middle;\n",
       "    }\n",
       "\n",
       "    .dataframe tbody tr th {\n",
       "        vertical-align: top;\n",
       "    }\n",
       "\n",
       "    .dataframe thead th {\n",
       "        text-align: right;\n",
       "    }\n",
       "</style>\n",
       "<table border=\"1\" class=\"dataframe\">\n",
       "  <thead>\n",
       "    <tr style=\"text-align: right;\">\n",
       "      <th></th>\n",
       "      <th>Date</th>\n",
       "      <th>Now</th>\n",
       "      <th>Start</th>\n",
       "      <th>Heigh</th>\n",
       "      <th>Low</th>\n",
       "      <th>Volume</th>\n",
       "      <th>Difference</th>\n",
       "    </tr>\n",
       "  </thead>\n",
       "  <tbody>\n",
       "    <tr>\n",
       "      <th>0</th>\n",
       "      <td>26.06.2023</td>\n",
       "      <td>20,42</td>\n",
       "      <td>20,54</td>\n",
       "      <td>20,78</td>\n",
       "      <td>20,24</td>\n",
       "      <td>168,99M</td>\n",
       "      <td>3,18%</td>\n",
       "    </tr>\n",
       "    <tr>\n",
       "      <th>1</th>\n",
       "      <td>23.06.2023</td>\n",
       "      <td>19,79</td>\n",
       "      <td>19,44</td>\n",
       "      <td>20,14</td>\n",
       "      <td>19,44</td>\n",
       "      <td>255,23M</td>\n",
       "      <td>3,13%</td>\n",
       "    </tr>\n",
       "    <tr>\n",
       "      <th>2</th>\n",
       "      <td>22.06.2023</td>\n",
       "      <td>19,19</td>\n",
       "      <td>19,30</td>\n",
       "      <td>19,55</td>\n",
       "      <td>18,60</td>\n",
       "      <td>439,66M</td>\n",
       "      <td>-0,62%</td>\n",
       "    </tr>\n",
       "    <tr>\n",
       "      <th>3</th>\n",
       "      <td>21.06.2023</td>\n",
       "      <td>19,31</td>\n",
       "      <td>19,22</td>\n",
       "      <td>19,39</td>\n",
       "      <td>18,93</td>\n",
       "      <td>171,88M</td>\n",
       "      <td>1,42%</td>\n",
       "    </tr>\n",
       "    <tr>\n",
       "      <th>4</th>\n",
       "      <td>20.06.2023</td>\n",
       "      <td>19,04</td>\n",
       "      <td>18,51</td>\n",
       "      <td>19,23</td>\n",
       "      <td>18,39</td>\n",
       "      <td>214,51M</td>\n",
       "      <td>2,86%</td>\n",
       "    </tr>\n",
       "  </tbody>\n",
       "</table>\n",
       "</div>"
      ],
      "text/plain": [
       "         Date    Now  Start  Heigh    Low   Volume Difference\n",
       "0  26.06.2023  20,42  20,54  20,78  20,24  168,99M      3,18%\n",
       "1  23.06.2023  19,79  19,44  20,14  19,44  255,23M      3,13%\n",
       "2  22.06.2023  19,19  19,30  19,55  18,60  439,66M     -0,62%\n",
       "3  21.06.2023  19,31  19,22  19,39  18,93  171,88M      1,42%\n",
       "4  20.06.2023  19,04  18,51  19,23  18,39  214,51M      2,86%"
      ]
     },
     "execution_count": 133,
     "metadata": {},
     "output_type": "execute_result"
    }
   ],
   "source": [
    "df=df.reindex(columns=['Tarih','Şimdi','Açılış','Yüksek','Düşük','Hac.','Fark %'])\n",
    "df.rename(columns = {'Tarih':'Date','Şimdi':'Now','Açılış':'Start','Yüksek':'Heigh','Düşük':'Low','Hac.':'Volume','Fark %':'Difference'}, inplace = True)\n",
    "df.head()"
   ]
  },
  {
   "cell_type": "markdown",
   "id": "2f880dfe",
   "metadata": {},
   "source": [
    "And now t is translated into turkish.\n",
    "\n",
    "Now we need to get Date_sold column to index axis to recurrent neural networks. AS current type is object we change it to datetime type."
   ]
  },
  {
   "cell_type": "markdown",
   "id": "c92c21fd",
   "metadata": {},
   "source": [
    "5-REINDEXING ROWS"
   ]
  },
  {
   "cell_type": "code",
   "execution_count": 134,
   "id": "a85c4372",
   "metadata": {
    "scrolled": true
   },
   "outputs": [
    {
     "name": "stdout",
     "output_type": "stream",
     "text": [
      "Turned into datetime datetime64[ns]\n",
      "        Date    Now  Start  Heigh    Low   Volume Difference\n",
      "0 2023-06-26  20,42  20,54  20,78  20,24  168,99M      3,18%\n",
      "1 2023-06-23  19,79  19,44  20,14  19,44  255,23M      3,13%\n",
      "2 2023-06-22  19,19  19,30  19,55  18,60  439,66M     -0,62%\n",
      "3 2023-06-21  19,31  19,22  19,39  18,93  171,88M      1,42%\n",
      "4 2023-06-20  19,04  18,51  19,23  18,39  214,51M      2,86%\n"
     ]
    },
    {
     "name": "stderr",
     "output_type": "stream",
     "text": [
      "C:\\Users\\Talha\\AppData\\Local\\Temp\\ipykernel_1672\\794571728.py:2: UserWarning: Parsing dates in %d.%m.%Y format when dayfirst=False (the default) was specified. Pass `dayfirst=True` or specify a format to silence this warning.\n",
      "  df['Date']=pd.to_datetime(df['Date'])\n"
     ]
    }
   ],
   "source": [
    "if df['Date'].dtypes!='datetime64':\n",
    "    df['Date']=pd.to_datetime(df['Date'])\n",
    "    print('Turned into datetime',df['Date'].dtypes)\n",
    "    print(df.head())\n",
    "else:\n",
    "    print('Already datetime')"
   ]
  },
  {
   "cell_type": "code",
   "execution_count": 135,
   "id": "e136120c",
   "metadata": {},
   "outputs": [],
   "source": [
    "df.head()\n",
    "df=df.set_index('Date')\n",
    "#We assign it into new variable to update dataframe. "
   ]
  },
  {
   "cell_type": "markdown",
   "id": "525546d5",
   "metadata": {},
   "source": [
    "6-Column Type Rearranging\n",
    "We use this dataframe to predict next numerical variables.\n",
    "To turn it into float type, the string keys first has to be excluded.\n",
    "So we do this. And sort rows using Datetime index."
   ]
  },
  {
   "cell_type": "code",
   "execution_count": 136,
   "id": "49c1d5af",
   "metadata": {
    "scrolled": true
   },
   "outputs": [
    {
     "data": {
      "text/html": [
       "<div>\n",
       "<style scoped>\n",
       "    .dataframe tbody tr th:only-of-type {\n",
       "        vertical-align: middle;\n",
       "    }\n",
       "\n",
       "    .dataframe tbody tr th {\n",
       "        vertical-align: top;\n",
       "    }\n",
       "\n",
       "    .dataframe thead th {\n",
       "        text-align: right;\n",
       "    }\n",
       "</style>\n",
       "<table border=\"1\" class=\"dataframe\">\n",
       "  <thead>\n",
       "    <tr style=\"text-align: right;\">\n",
       "      <th></th>\n",
       "      <th>Now</th>\n",
       "      <th>Start</th>\n",
       "      <th>Heigh</th>\n",
       "      <th>Low</th>\n",
       "      <th>Volume</th>\n",
       "      <th>Difference</th>\n",
       "    </tr>\n",
       "    <tr>\n",
       "      <th>Date</th>\n",
       "      <th></th>\n",
       "      <th></th>\n",
       "      <th></th>\n",
       "      <th></th>\n",
       "      <th></th>\n",
       "      <th></th>\n",
       "    </tr>\n",
       "  </thead>\n",
       "  <tbody>\n",
       "    <tr>\n",
       "      <th>2023-03-30</th>\n",
       "      <td>16.70</td>\n",
       "      <td>16.98</td>\n",
       "      <td>17.25</td>\n",
       "      <td>16.61</td>\n",
       "      <td>126.04</td>\n",
       "      <td>-1.30</td>\n",
       "    </tr>\n",
       "    <tr>\n",
       "      <th>2023-03-31</th>\n",
       "      <td>16.94</td>\n",
       "      <td>16.49</td>\n",
       "      <td>16.98</td>\n",
       "      <td>16.20</td>\n",
       "      <td>127.23</td>\n",
       "      <td>1.44</td>\n",
       "    </tr>\n",
       "    <tr>\n",
       "      <th>2023-04-03</th>\n",
       "      <td>17.02</td>\n",
       "      <td>16.82</td>\n",
       "      <td>17.10</td>\n",
       "      <td>16.45</td>\n",
       "      <td>108.14</td>\n",
       "      <td>0.47</td>\n",
       "    </tr>\n",
       "    <tr>\n",
       "      <th>2023-04-04</th>\n",
       "      <td>17.36</td>\n",
       "      <td>17.01</td>\n",
       "      <td>17.39</td>\n",
       "      <td>16.93</td>\n",
       "      <td>97.67</td>\n",
       "      <td>2.00</td>\n",
       "    </tr>\n",
       "    <tr>\n",
       "      <th>2023-04-05</th>\n",
       "      <td>16.86</td>\n",
       "      <td>17.36</td>\n",
       "      <td>17.46</td>\n",
       "      <td>16.86</td>\n",
       "      <td>76.79</td>\n",
       "      <td>-2.88</td>\n",
       "    </tr>\n",
       "    <tr>\n",
       "      <th>...</th>\n",
       "      <td>...</td>\n",
       "      <td>...</td>\n",
       "      <td>...</td>\n",
       "      <td>...</td>\n",
       "      <td>...</td>\n",
       "      <td>...</td>\n",
       "    </tr>\n",
       "    <tr>\n",
       "      <th>2023-06-20</th>\n",
       "      <td>19.04</td>\n",
       "      <td>18.51</td>\n",
       "      <td>19.23</td>\n",
       "      <td>18.39</td>\n",
       "      <td>214.51</td>\n",
       "      <td>2.86</td>\n",
       "    </tr>\n",
       "    <tr>\n",
       "      <th>2023-06-21</th>\n",
       "      <td>19.31</td>\n",
       "      <td>19.22</td>\n",
       "      <td>19.39</td>\n",
       "      <td>18.93</td>\n",
       "      <td>171.88</td>\n",
       "      <td>1.42</td>\n",
       "    </tr>\n",
       "    <tr>\n",
       "      <th>2023-06-22</th>\n",
       "      <td>19.19</td>\n",
       "      <td>19.30</td>\n",
       "      <td>19.55</td>\n",
       "      <td>18.60</td>\n",
       "      <td>439.66</td>\n",
       "      <td>-0.62</td>\n",
       "    </tr>\n",
       "    <tr>\n",
       "      <th>2023-06-23</th>\n",
       "      <td>19.79</td>\n",
       "      <td>19.44</td>\n",
       "      <td>20.14</td>\n",
       "      <td>19.44</td>\n",
       "      <td>255.23</td>\n",
       "      <td>3.13</td>\n",
       "    </tr>\n",
       "    <tr>\n",
       "      <th>2023-06-26</th>\n",
       "      <td>20.42</td>\n",
       "      <td>20.54</td>\n",
       "      <td>20.78</td>\n",
       "      <td>20.24</td>\n",
       "      <td>168.99</td>\n",
       "      <td>3.18</td>\n",
       "    </tr>\n",
       "  </tbody>\n",
       "</table>\n",
       "<p>62 rows × 6 columns</p>\n",
       "</div>"
      ],
      "text/plain": [
       "              Now  Start  Heigh    Low  Volume Difference\n",
       "Date                                                     \n",
       "2023-03-30  16.70  16.98  17.25  16.61  126.04      -1.30\n",
       "2023-03-31  16.94  16.49  16.98  16.20  127.23       1.44\n",
       "2023-04-03  17.02  16.82  17.10  16.45  108.14       0.47\n",
       "2023-04-04  17.36  17.01  17.39  16.93   97.67       2.00\n",
       "2023-04-05  16.86  17.36  17.46  16.86   76.79      -2.88\n",
       "...           ...    ...    ...    ...     ...        ...\n",
       "2023-06-20  19.04  18.51  19.23  18.39  214.51       2.86\n",
       "2023-06-21  19.31  19.22  19.39  18.93  171.88       1.42\n",
       "2023-06-22  19.19  19.30  19.55  18.60  439.66      -0.62\n",
       "2023-06-23  19.79  19.44  20.14  19.44  255.23       3.13\n",
       "2023-06-26  20.42  20.54  20.78  20.24  168.99       3.18\n",
       "\n",
       "[62 rows x 6 columns]"
      ]
     },
     "execution_count": 136,
     "metadata": {},
     "output_type": "execute_result"
    }
   ],
   "source": [
    "df['Volume']= df[\"Volume\"].apply(lambda x: x.split(\"M\")[0])\n",
    "df['Difference']= df[\"Difference\"].apply(lambda x: x.split('%')[0])\n",
    "df = df.applymap(lambda x: x.replace(',', '.'))\n",
    "df=df.sort_index()\n",
    "df"
   ]
  },
  {
   "cell_type": "markdown",
   "id": "16b17972",
   "metadata": {},
   "source": [
    "7-DATA VISUALIZATION\n",
    "\n",
    "Data visualization is an important step for data preprocessing. Because given dataset may contain exact changes because of extraordinary effect, so this can be understood by graphs."
   ]
  },
  {
   "cell_type": "code",
   "execution_count": 137,
   "id": "6fd4247e",
   "metadata": {},
   "outputs": [
    {
     "data": {
      "text/plain": [
       "[<matplotlib.lines.Line2D at 0x1f97fb6b2e0>]"
      ]
     },
     "execution_count": 137,
     "metadata": {},
     "output_type": "execute_result"
    },
    {
     "data": {
      "image/png": "[encoded data removed]",
      "text/plain": [
       "<Figure size 640x480 with 2 Axes>"
      ]
     },
     "metadata": {},
     "output_type": "display_data"
    }
   ],
   "source": [
    "\n",
    "plt.title(\"Price Change\")\n",
    "plt.xlabel(\"Date\")\n",
    "plt.ylabel(\"Price\")\n",
    "plt.tick_params(axis='x', which='both', bottom=True, top=True)\n",
    "plt.subplot(1, 2, 1)\n",
    "plt.plot(df['Now'])\n",
    "df=df.drop([pd.to_datetime('2023-04-20'),pd.to_datetime('2023-04-25'),pd.to_datetime('2023-04-26')])\n",
    "plt.subplot(1, 2, 2)\n",
    "plt.plot(df['Now'])"
   ]
  },
  {
   "cell_type": "markdown",
   "id": "8847b75d",
   "metadata": {},
   "source": [
    "So we see that there is a extraordinary decrease in share the date between 20/04- 26/04. And we drop this rows from dataset."
   ]
  },
  {
   "cell_type": "markdown",
   "id": "78673976",
   "metadata": {},
   "source": [
    "8-DATA CLASSSFYING\n",
    "\n",
    "We have independent and dependent variables for prediction. \n",
    "As we have more than one variable this time series prediction(TSP) is called as multivariate time series."
   ]
  },
  {
   "cell_type": "code",
   "execution_count": 138,
   "id": "b3664935",
   "metadata": {},
   "outputs": [
    {
     "data": {
      "text/plain": [
       "59"
      ]
     },
     "execution_count": 138,
     "metadata": {},
     "output_type": "execute_result"
    }
   ],
   "source": [
    "#DATA CLASSIFYING FOR INDEPENDENT AND DEPENDENT VARIABLE\n",
    "ind_col=['Start','Heigh','Low']\n",
    "ind_df=df[ind_col].astype(float)\n",
    "dep_df=df['Now'].astype(float)\n",
    "ind_df.head(6)\n",
    "len(ind_df)\n",
    "#We seperate dataframe by independent variables and ddependent variables for TSP.\n",
    "#And make all columns float for numerical operatio."
   ]
  },
  {
   "cell_type": "markdown",
   "id": "0db24d9b",
   "metadata": {},
   "source": [
    "9-DATA NORMALIZATION"
   ]
  },
  {
   "cell_type": "code",
   "execution_count": 139,
   "id": "497a070d",
   "metadata": {},
   "outputs": [
    {
     "name": "stdout",
     "output_type": "stream",
     "text": [
      "trainX shape == (55, 4, 3).\n",
      "trainY shape == (55, 1).\n"
     ]
    }
   ],
   "source": [
    "from sklearn.preprocessing import MinMaxScaler\n",
    "scaler = MinMaxScaler()\n",
    "ind_df_scaled = scaler.fit_transform(ind_df)\n",
    "dep_df_scaled = scaler.fit_transform(dep_df.values.reshape(-1, 1))\n",
    "trainX = []\n",
    "trainY = []\n",
    "\n",
    "n_future = 1   # Number of days we want to look into the future based on the past days.\n",
    "n_past = 4  # Number of past days we want to use to predict the future.\n",
    "\n",
    "#Reformat input data into a shape: (n_samples x timesteps x n_features)\n",
    "for i in range(n_past, len(ind_df) - n_future +2):#(4,21,)\n",
    "    if i==(len(df)-n_future+1):\n",
    "        trainX.append(ind_df_scaled[i - n_past:i, 0:ind_df.shape[1]])\n",
    "    else:\n",
    "        trainX.append(ind_df_scaled[i - n_past:i, 0:ind_df.shape[1]])\n",
    "        trainY.append(dep_df_scaled[i + n_future - 1:i + n_future, 0])\n",
    "        \n",
    "trainX, trainY = np.array(trainX), np.array(trainY)\n",
    "trainX_train=trainX[0:(len(trainX)-1)]\n",
    "print('trainX shape == {}.'.format(trainX_train.shape))\n",
    "print('trainY shape == {}.'.format(trainY.shape))\n",
    "#trainX"
   ]
  },
  {
   "cell_type": "markdown",
   "id": "658c0853",
   "metadata": {},
   "source": [
    "This step is used for data grouping by independent and dependent variable. We make all data to appropriate by past n timestamps independent variables for next dependent variable."
   ]
  },
  {
   "cell_type": "markdown",
   "id": "26bb0e3e",
   "metadata": {},
   "source": [
    "9-LSTM MODEL BUILDING"
   ]
  },
  {
   "cell_type": "code",
   "execution_count": 140,
   "id": "5932208f",
   "metadata": {},
   "outputs": [],
   "source": [
    "from keras.models import Sequential\n",
    "from keras.layers import LSTM, Dense,Dropout\n",
    "#importing neccesary libraries\n",
    "model = Sequential()\n",
    "model.add(LSTM(units=50, activation='tanh',input_shape=(trainX_train.shape[1], trainX_train.shape[2]),return_sequences=True)) \n",
    "model.add(LSTM(units=40, activation='tanh',input_shape=(trainX_train.shape[1], trainX_train.shape[2]),return_sequences=False))\n",
    "model.add(Dropout(0.2))\n",
    "model.add(Dense(trainY.shape[1]))#Bu modelin çıktı katmanıdır. Çıkışta alıcağımız veri özellik sayısına eştleriz."
   ]
  },
  {
   "cell_type": "markdown",
   "id": "dfcbdba3",
   "metadata": {},
   "source": [
    "-The model predicts the next day using the previous 4 days. A sequential structure was created by adding two consecutive LSTM layers also.\n",
    "\n",
    "-The Droput layer is used to cover the random data from the training layer. In this way, excessive compatibility of the data and interpolation-based estimation will be saved.(Overfitting)\n",
    "\n",
    "The Dense layer determines the size of the output. The number of columns of a single dependent variable is given as input to the layer.\n",
    "\n",
    "Units number and activation function is selected as most appropriate parameters based on this estimation aim."
   ]
  },
  {
   "cell_type": "markdown",
   "id": "8e837ab2",
   "metadata": {},
   "source": [
    "10-MODEL COMPILATION"
   ]
  },
  {
   "cell_type": "code",
   "execution_count": 141,
   "id": "3d66cfb2",
   "metadata": {},
   "outputs": [],
   "source": [
    "model.compile(optimizer='adam', loss='mean_squared_error')"
   ]
  },
  {
   "cell_type": "markdown",
   "id": "c7dd0fa8",
   "metadata": {},
   "source": [
    "This step is vital important as  key difference from simpleRNN units. The more long term dependencies for predict, loss value will get bigger in RNN model. But LSTM use a  multifunctional model structure to overcome about it.\n",
    "\n",
    "With the simplest explanation it has a cell state and gate units to work only with useful data for the active timestamp and so the compliation step preserved from calculating unneccesary gradient calculation.\n",
    "\n",
    "\n",
    "For more readme.md"
   ]
  },
  {
   "cell_type": "markdown",
   "id": "42f16de2",
   "metadata": {},
   "source": [
    "MODEL TRAINING"
   ]
  },
  {
   "cell_type": "code",
   "execution_count": 142,
   "id": "00806ead",
   "metadata": {},
   "outputs": [
    {
     "name": "stdout",
     "output_type": "stream",
     "text": [
      "Epoch 1/20\n",
      "4/4 - 7s - loss: 0.2823 - val_loss: 0.6395 - 7s/epoch - 2s/step\n",
      "Epoch 2/20\n",
      "4/4 - 0s - loss: 0.1977 - val_loss: 0.4741 - 64ms/epoch - 16ms/step\n",
      "Epoch 3/20\n",
      "4/4 - 0s - loss: 0.1468 - val_loss: 0.3213 - 55ms/epoch - 14ms/step\n",
      "Epoch 4/20\n",
      "4/4 - 0s - loss: 0.0963 - val_loss: 0.1803 - 56ms/epoch - 14ms/step\n",
      "Epoch 5/20\n",
      "4/4 - 0s - loss: 0.0537 - val_loss: 0.0739 - 56ms/epoch - 14ms/step\n",
      "Epoch 6/20\n",
      "4/4 - 0s - loss: 0.0325 - val_loss: 0.0214 - 56ms/epoch - 14ms/step\n",
      "Epoch 7/20\n",
      "4/4 - 0s - loss: 0.0331 - val_loss: 0.0100 - 57ms/epoch - 14ms/step\n",
      "Epoch 8/20\n",
      "4/4 - 0s - loss: 0.0467 - val_loss: 0.0124 - 104ms/epoch - 26ms/step\n",
      "Epoch 9/20\n",
      "4/4 - 0s - loss: 0.0318 - val_loss: 0.0313 - 62ms/epoch - 15ms/step\n",
      "Epoch 10/20\n",
      "4/4 - 0s - loss: 0.0342 - val_loss: 0.0451 - 60ms/epoch - 15ms/step\n",
      "Epoch 11/20\n",
      "4/4 - 0s - loss: 0.0376 - val_loss: 0.0432 - 58ms/epoch - 14ms/step\n",
      "Epoch 12/20\n",
      "4/4 - 0s - loss: 0.0336 - val_loss: 0.0387 - 58ms/epoch - 14ms/step\n",
      "Epoch 13/20\n",
      "4/4 - 0s - loss: 0.0395 - val_loss: 0.0554 - 59ms/epoch - 15ms/step\n",
      "Epoch 14/20\n",
      "4/4 - 0s - loss: 0.0397 - val_loss: 0.0587 - 58ms/epoch - 14ms/step\n",
      "Epoch 15/20\n",
      "4/4 - 0s - loss: 0.0324 - val_loss: 0.0546 - 57ms/epoch - 14ms/step\n",
      "Epoch 16/20\n",
      "4/4 - 0s - loss: 0.0394 - val_loss: 0.0524 - 61ms/epoch - 15ms/step\n",
      "Epoch 17/20\n",
      "4/4 - 0s - loss: 0.0407 - val_loss: 0.0450 - 59ms/epoch - 15ms/step\n",
      "Epoch 18/20\n",
      "4/4 - 0s - loss: 0.0315 - val_loss: 0.0313 - 59ms/epoch - 15ms/step\n",
      "Epoch 19/20\n",
      "4/4 - 0s - loss: 0.0370 - val_loss: 0.0191 - 64ms/epoch - 16ms/step\n",
      "Epoch 20/20\n",
      "4/4 - 0s - loss: 0.0378 - val_loss: 0.0108 - 57ms/epoch - 14ms/step\n"
     ]
    },
    {
     "data": {
      "text/plain": [
       "<matplotlib.legend.Legend at 0x1f9790d2aa0>"
      ]
     },
     "execution_count": 142,
     "metadata": {},
     "output_type": "execute_result"
    },
    {
     "data": {
      "image/png": "[encoded data removed]",
      "text/plain": [
       "<Figure size 640x480 with 1 Axes>"
      ]
     },
     "metadata": {},
     "output_type": "display_data"
    }
   ],
   "source": [
    "history = model.fit(trainX_train, trainY, epochs=20, batch_size=16, validation_split=0.1, verbose=2)\n",
    "plt.plot(history.history['loss'], label='Training loss')\n",
    "plt.plot(history.history['val_loss'], label='Validation loss')\n",
    "plt.legend()"
   ]
  },
  {
   "cell_type": "markdown",
   "id": "91f45eb3",
   "metadata": {},
   "source": [
    "MODEL PREDICTION"
   ]
  },
  {
   "cell_type": "code",
   "execution_count": 143,
   "id": "0f9b162b",
   "metadata": {},
   "outputs": [
    {
     "name": "stdout",
     "output_type": "stream",
     "text": [
      "1/1 [==============================] - 1s 843ms/step\n"
     ]
    }
   ],
   "source": [
    "n_days_for_prediction=10\n",
    "predict_dates=pd.date_range((ind_df.index)[-n_days_for_prediction],periods=n_days_for_prediction+1,freq='B')\n",
    "predict_dates=predict_dates[1:]\n",
    "prediction = model.predict(trainX[-n_days_for_prediction:]) \n",
    "prediction=scaler.inverse_transform(prediction)\n"
   ]
  },
  {
   "cell_type": "markdown",
   "id": "33444d21",
   "metadata": {},
   "source": [
    "COMPARISION\n",
    "Bunlar ileri tarihli tahminleri yapmak için."
   ]
  },
  {
   "cell_type": "code",
   "execution_count": 144,
   "id": "bf113ac0",
   "metadata": {},
   "outputs": [
    {
     "name": "stdout",
     "output_type": "stream",
     "text": [
      "The predict now price for 2023-06-14 00:00:00 is [18.641241] and real value is 18.37\n",
      "The predict now price for 2023-06-15 00:00:00 is [18.588974] and real value is 19.23\n",
      "The predict now price for 2023-06-16 00:00:00 is [18.548374] and real value is 18.89\n",
      "The predict now price for 2023-06-19 00:00:00 is [18.620218] and real value is 18.51\n",
      "The predict now price for 2023-06-20 00:00:00 is [18.81653] and real value is 19.04\n",
      "The predict now price for 2023-06-21 00:00:00 is [18.94714] and real value is 19.31\n",
      "The predict now price for 2023-06-22 00:00:00 is [18.98817] and real value is 19.19\n",
      "The predict now price for 2023-06-23 00:00:00 is [18.952694] and real value is 19.79\n",
      "The predict now price for 2023-06-26 00:00:00 is [19.08293] and real value is 20.42\n",
      "The predict now price for 2023-06-27 00:00:00 is [19.357618] and real value is not known yet.\n"
     ]
    }
   ],
   "source": [
    "forecast_dates = []\n",
    "i=0\n",
    "for time_i in predict_dates:\n",
    "    i=i+1\n",
    "    if i==n_days_for_prediction:\n",
    "        print(f'The predict now price for {time_i} is {prediction[i-1]} and real value is not known yet.')\n",
    "    else:   \n",
    "        forecast_dates.append(time_i.date())\n",
    "        print(f'The predict now price for {time_i} is {prediction[i-1]} and real value is {df.at[time_i,\"Now\"]}')"
   ]
  },
  {
   "cell_type": "markdown",
   "id": "f6368b25",
   "metadata": {},
   "source": [
    "And the predicted price and real price shown below with figure.\n",
    "\n",
    "Note: Real share value is 20.20 for 2023-06-27. "
   ]
  },
  {
   "cell_type": "markdown",
   "id": "16460894",
   "metadata": {},
   "source": [
    "DATA VISUALIZATION"
   ]
  },
  {
   "cell_type": "code",
   "execution_count": 145,
   "id": "ce6d6d3e",
   "metadata": {},
   "outputs": [
    {
     "name": "stderr",
     "output_type": "stream",
     "text": [
      "No artists with labels found to put in legend.  Note that artists whose label start with an underscore are ignored when legend() is called with no argument.\n"
     ]
    },
    {
     "data": {
      "image/png": "[encoded data removed]",
      "text/plain": [
       "<Figure size 640x480 with 2 Axes>"
      ]
     },
     "metadata": {},
     "output_type": "display_data"
    }
   ],
   "source": [
    "last_10=df.tail(10)['Now'].tolist()\n",
    "plt.subplot(1,2,1)\n",
    "plt.plot(predict_dates,prediction,color='orange')\n",
    "plt.xlabel('Date')\n",
    "plt.ylabel('Share')\n",
    "plt.title('Predicted Values')\n",
    "plt.subplot(1,2,2)\n",
    "plt.plot(predict_dates,last_10,color='green')\n",
    "\n",
    "plt.xlabel('Date')\n",
    "plt.ylabel('Share')\n",
    "plt.title('Real Values')\n",
    "\n",
    "# Legendların gösterimi\n",
    "plt.legend()\n",
    "\n",
    "# Grafik gösterimi\n",
    "plt.show()\n",
    "\n"
   ]
  }
 ],
 "metadata": {
  "kernelspec": {
   "display_name": "Python 3 (ipykernel)",
   "language": "python",
   "name": "python3"
  },
  "language_info": {
   "codemirror_mode": {
    "name": "ipython",
    "version": 3
   },
   "file_extension": ".py",
   "mimetype": "text/x-python",
   "name": "python",
   "nbconvert_exporter": "python",
   "pygments_lexer": "ipython3",
   "version": "3.10.5"
  }
 },
 "nbformat": 4,
 "nbformat_minor": 5
}
