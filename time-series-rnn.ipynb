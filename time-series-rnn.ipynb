{
 "cells": [
  {
   "cell_type": "markdown",
   "id": "dc0a651f",
   "metadata": {},
   "source": [
    "TIME SERIES PREDICTION AOUT PROPERTY SALES IN USA\n",
    "DATA PREPROCCESSING\n",
    "\n",
    "1-DATA READING AND REDUCING THE NUMBER"
   ]
  },
  {
   "cell_type": "code",
   "execution_count": 1,
   "id": "f4f2afc5",
   "metadata": {},
   "outputs": [
    {
     "name": "stdout",
     "output_type": "stream",
     "text": [
      "        Tarih  Şimdi Açılış Yüksek  Düşük     Hac.  Fark %\n",
      "0  26.06.2023  20,42  20,54  20,78  20,24  168,99M   3,18%\n",
      "1  23.06.2023  19,79  19,44  20,14  19,44  255,23M   3,13%\n",
      "2  22.06.2023  19,19  19,30  19,55  18,60  439,66M  -0,62%\n",
      "3  21.06.2023  19,31  19,22  19,39  18,93  171,88M   1,42%\n",
      "4  20.06.2023  19,04  18,51  19,23  18,39  214,51M   2,86% \n",
      "\n",
      "Shape of this dataframe is: (21, 7)\n"
     ]
    }
   ],
   "source": [
    "import pandas as pd\n",
    "import numpy as np\n",
    "import matplotlib.pyplot as plt\n",
    "\n",
    "df=pd.read_csv('AKBANK.csv')\n",
    "df_april=pd.read_csv('AKBNK-nisan-mayıs.csv')\n",
    "print(df.head(5),'\\n')\n",
    "print(f\"Shape of this dataframe is: {df.shape}\")\n"
   ]
  },
  {
   "cell_type": "markdown",
   "id": "91aa9e33",
   "metadata": {},
   "source": [
    "At first we check if dataframe is readable and the shape of dataframe. This first dataset consist of 21 row and 5 columns.\n",
    "This is a small number to evaluate, so add also a few past months data also."
   ]
  },
  {
   "cell_type": "code",
   "execution_count": 2,
   "id": "4474d89f",
   "metadata": {},
   "outputs": [
    {
     "data": {
      "text/plain": [
       "['26.06.2023',\n",
       " '23.06.2023',\n",
       " '22.06.2023',\n",
       " '21.06.2023',\n",
       " '20.06.2023',\n",
       " '19.06.2023',\n",
       " '16.06.2023',\n",
       " '15.06.2023',\n",
       " '14.06.2023',\n",
       " '13.06.2023',\n",
       " '12.06.2023',\n",
       " '09.06.2023',\n",
       " '08.06.2023',\n",
       " '07.06.2023',\n",
       " '06.06.2023',\n",
       " '05.06.2023',\n",
       " '02.06.2023',\n",
       " '01.06.2023',\n",
       " '31.05.2023',\n",
       " '30.05.2023',\n",
       " '29.05.2023',\n",
       " '30.05.2023',\n",
       " '29.05.2023',\n",
       " '26.05.2023',\n",
       " '25.05.2023',\n",
       " '24.05.2023',\n",
       " '23.05.2023',\n",
       " '22.05.2023',\n",
       " '18.05.2023',\n",
       " '17.05.2023',\n",
       " '16.05.2023',\n",
       " '15.05.2023',\n",
       " '12.05.2023',\n",
       " '11.05.2023',\n",
       " '10.05.2023',\n",
       " '09.05.2023',\n",
       " '08.05.2023',\n",
       " '05.05.2023',\n",
       " '04.05.2023',\n",
       " '03.05.2023',\n",
       " '02.05.2023',\n",
       " '28.04.2023',\n",
       " '27.04.2023',\n",
       " '26.04.2023',\n",
       " '25.04.2023',\n",
       " '24.04.2023',\n",
       " '20.04.2023',\n",
       " '19.04.2023',\n",
       " '18.04.2023',\n",
       " '17.04.2023',\n",
       " '14.04.2023',\n",
       " '13.04.2023',\n",
       " '12.04.2023',\n",
       " '11.04.2023',\n",
       " '10.04.2023',\n",
       " '07.04.2023',\n",
       " '06.04.2023',\n",
       " '05.04.2023',\n",
       " '04.04.2023',\n",
       " '03.04.2023',\n",
       " '31.03.2023',\n",
       " '30.03.2023']"
      ]
     },
     "execution_count": 2,
     "metadata": {},
     "output_type": "execute_result"
    }
   ],
   "source": [
    "df=pd.concat([df, df_april])\n",
    "dates=list(df['Tarih'])\n",
    "dates#List of total timestamps AKBANK Share data."
   ]
  },
  {
   "cell_type": "markdown",
   "id": "6104c81b",
   "metadata": {},
   "source": [
    "2-DATA CLEANING-NULL CHECK"
   ]
  },
  {
   "cell_type": "code",
   "execution_count": 3,
   "id": "f3c9a880",
   "metadata": {},
   "outputs": [
    {
     "name": "stdout",
     "output_type": "stream",
     "text": [
      "<class 'pandas.core.frame.DataFrame'>\n",
      "Index: 62 entries, 0 to 40\n",
      "Data columns (total 7 columns):\n",
      " #   Column  Non-Null Count  Dtype \n",
      "---  ------  --------------  ----- \n",
      " 0   Tarih   62 non-null     object\n",
      " 1   Şimdi   62 non-null     object\n",
      " 2   Açılış  62 non-null     object\n",
      " 3   Yüksek  62 non-null     object\n",
      " 4   Düşük   62 non-null     object\n",
      " 5   Hac.    62 non-null     object\n",
      " 6   Fark %  62 non-null     object\n",
      "dtypes: object(7)\n",
      "memory usage: 3.9+ KB\n"
     ]
    }
   ],
   "source": [
    "df.info()#This check is required to operate columns data, as if it is not compatiple type we cann't do numerical operations."
   ]
  },
  {
   "cell_type": "markdown",
   "id": "780cdf1e",
   "metadata": {},
   "source": [
    "There is no null data in datasets."
   ]
  },
  {
   "cell_type": "markdown",
   "id": "a8ed71e0",
   "metadata": {},
   "source": [
    "2-DATA CLEANING-DUPLICATED ROWS"
   ]
  },
  {
   "cell_type": "code",
   "execution_count": 4,
   "id": "7492d0d1",
   "metadata": {
    "scrolled": false
   },
   "outputs": [
    {
     "name": "stdout",
     "output_type": "stream",
     "text": [
      "22 is duplicated\n",
      "23 is duplicated\n",
      "None of the rows are duplicated.\n"
     ]
    }
   ],
   "source": [
    "df.duplicated()\n",
    "x=0\n",
    "y=0\n",
    "\n",
    "for i in df.duplicated():\n",
    "    y=y+1\n",
    "    x=x+1\n",
    "    if i==True:\n",
    "        print(f\"{x} is duplicated\")\n",
    "    elif(y==len(df.duplicated())):\n",
    "        print('None of the rows are duplicated.')\n",
    "    else:\n",
    "        continue"
   ]
  },
  {
   "cell_type": "markdown",
   "id": "13e80b39",
   "metadata": {},
   "source": [
    "Note: Duplicated row is regulated manually from csv file."
   ]
  },
  {
   "cell_type": "markdown",
   "id": "aba39378",
   "metadata": {},
   "source": [
    "4-COLUMNS LABEL RENAME"
   ]
  },
  {
   "cell_type": "code",
   "execution_count": 5,
   "id": "6894fefc",
   "metadata": {},
   "outputs": [
    {
     "data": {
      "text/html": [
       "<div>\n",
       "<style scoped>\n",
       "    .dataframe tbody tr th:only-of-type {\n",
       "        vertical-align: middle;\n",
       "    }\n",
       "\n",
       "    .dataframe tbody tr th {\n",
       "        vertical-align: top;\n",
       "    }\n",
       "\n",
       "    .dataframe thead th {\n",
       "        text-align: right;\n",
       "    }\n",
       "</style>\n",
       "<table border=\"1\" class=\"dataframe\">\n",
       "  <thead>\n",
       "    <tr style=\"text-align: right;\">\n",
       "      <th></th>\n",
       "      <th>Date</th>\n",
       "      <th>Now</th>\n",
       "      <th>Start</th>\n",
       "      <th>Heigh</th>\n",
       "      <th>Low</th>\n",
       "      <th>Volume</th>\n",
       "      <th>Difference</th>\n",
       "    </tr>\n",
       "  </thead>\n",
       "  <tbody>\n",
       "    <tr>\n",
       "      <th>0</th>\n",
       "      <td>26.06.2023</td>\n",
       "      <td>20,42</td>\n",
       "      <td>20,54</td>\n",
       "      <td>20,78</td>\n",
       "      <td>20,24</td>\n",
       "      <td>168,99M</td>\n",
       "      <td>3,18%</td>\n",
       "    </tr>\n",
       "    <tr>\n",
       "      <th>1</th>\n",
       "      <td>23.06.2023</td>\n",
       "      <td>19,79</td>\n",
       "      <td>19,44</td>\n",
       "      <td>20,14</td>\n",
       "      <td>19,44</td>\n",
       "      <td>255,23M</td>\n",
       "      <td>3,13%</td>\n",
       "    </tr>\n",
       "    <tr>\n",
       "      <th>2</th>\n",
       "      <td>22.06.2023</td>\n",
       "      <td>19,19</td>\n",
       "      <td>19,30</td>\n",
       "      <td>19,55</td>\n",
       "      <td>18,60</td>\n",
       "      <td>439,66M</td>\n",
       "      <td>-0,62%</td>\n",
       "    </tr>\n",
       "    <tr>\n",
       "      <th>3</th>\n",
       "      <td>21.06.2023</td>\n",
       "      <td>19,31</td>\n",
       "      <td>19,22</td>\n",
       "      <td>19,39</td>\n",
       "      <td>18,93</td>\n",
       "      <td>171,88M</td>\n",
       "      <td>1,42%</td>\n",
       "    </tr>\n",
       "    <tr>\n",
       "      <th>4</th>\n",
       "      <td>20.06.2023</td>\n",
       "      <td>19,04</td>\n",
       "      <td>18,51</td>\n",
       "      <td>19,23</td>\n",
       "      <td>18,39</td>\n",
       "      <td>214,51M</td>\n",
       "      <td>2,86%</td>\n",
       "    </tr>\n",
       "  </tbody>\n",
       "</table>\n",
       "</div>"
      ],
      "text/plain": [
       "         Date    Now  Start  Heigh    Low   Volume Difference\n",
       "0  26.06.2023  20,42  20,54  20,78  20,24  168,99M      3,18%\n",
       "1  23.06.2023  19,79  19,44  20,14  19,44  255,23M      3,13%\n",
       "2  22.06.2023  19,19  19,30  19,55  18,60  439,66M     -0,62%\n",
       "3  21.06.2023  19,31  19,22  19,39  18,93  171,88M      1,42%\n",
       "4  20.06.2023  19,04  18,51  19,23  18,39  214,51M      2,86%"
      ]
     },
     "execution_count": 5,
     "metadata": {},
     "output_type": "execute_result"
    }
   ],
   "source": [
    "df=df.reindex(columns=['Tarih','Şimdi','Açılış','Yüksek','Düşük','Hac.','Fark %'])\n",
    "df.rename(columns = {'Tarih':'Date','Şimdi':'Now','Açılış':'Start','Yüksek':'Heigh','Düşük':'Low','Hac.':'Volume','Fark %':'Difference'}, inplace = True)\n",
    "df.head()"
   ]
  },
  {
   "cell_type": "markdown",
   "id": "2f880dfe",
   "metadata": {},
   "source": [
    "And now it is translated into english to be universial labels.\n",
    "\n",
    "Now we need to get Date_sold column to index axis to recurrent neural networks. AS current type is object we change it to datetime type."
   ]
  },
  {
   "cell_type": "markdown",
   "id": "f77577c4",
   "metadata": {},
   "source": [
    "5-REINDEXING ROWS"
   ]
  },
  {
   "cell_type": "code",
   "execution_count": 6,
   "id": "a85c4372",
   "metadata": {
    "scrolled": true
   },
   "outputs": [
    {
     "name": "stdout",
     "output_type": "stream",
     "text": [
      "Turned into datetime datetime64[ns]\n",
      "        Date    Now  Start  Heigh    Low   Volume Difference\n",
      "0 2023-06-26  20,42  20,54  20,78  20,24  168,99M      3,18%\n",
      "1 2023-06-23  19,79  19,44  20,14  19,44  255,23M      3,13%\n",
      "2 2023-06-22  19,19  19,30  19,55  18,60  439,66M     -0,62%\n",
      "3 2023-06-21  19,31  19,22  19,39  18,93  171,88M      1,42%\n",
      "4 2023-06-20  19,04  18,51  19,23  18,39  214,51M      2,86%\n"
     ]
    },
    {
     "name": "stderr",
     "output_type": "stream",
     "text": [
      "C:\\Users\\Talha\\AppData\\Local\\Temp\\ipykernel_14640\\794571728.py:2: UserWarning: Parsing dates in %d.%m.%Y format when dayfirst=False (the default) was specified. Pass `dayfirst=True` or specify a format to silence this warning.\n",
      "  df['Date']=pd.to_datetime(df['Date'])\n"
     ]
    }
   ],
   "source": [
    "if df['Date'].dtypes!='datetime64':\n",
    "    df['Date']=pd.to_datetime(df['Date'])\n",
    "    print('Turned into datetime',df['Date'].dtypes)\n",
    "    print(df.head())\n",
    "else:\n",
    "    print('Already datetime')"
   ]
  },
  {
   "cell_type": "code",
   "execution_count": 7,
   "id": "e6f4550a",
   "metadata": {},
   "outputs": [],
   "source": [
    "df.head()\n",
    "df=df.set_index('Date')\n",
    "#Index updated."
   ]
  },
  {
   "cell_type": "markdown",
   "id": "3491db6e",
   "metadata": {},
   "source": [
    "6-COLUMN TYPE REGULATING\n",
    "\n",
    "We use this dataframe to predict next numerical variables.\n",
    "To turn it into float type, the string keys first has to be excluded.\n",
    "So we do this. And sort rows using Datetime index."
   ]
  },
  {
   "cell_type": "code",
   "execution_count": 8,
   "id": "49c1d5af",
   "metadata": {
    "scrolled": true
   },
   "outputs": [
    {
     "data": {
      "text/html": [
       "<div>\n",
       "<style scoped>\n",
       "    .dataframe tbody tr th:only-of-type {\n",
       "        vertical-align: middle;\n",
       "    }\n",
       "\n",
       "    .dataframe tbody tr th {\n",
       "        vertical-align: top;\n",
       "    }\n",
       "\n",
       "    .dataframe thead th {\n",
       "        text-align: right;\n",
       "    }\n",
       "</style>\n",
       "<table border=\"1\" class=\"dataframe\">\n",
       "  <thead>\n",
       "    <tr style=\"text-align: right;\">\n",
       "      <th></th>\n",
       "      <th>Now</th>\n",
       "      <th>Start</th>\n",
       "      <th>Heigh</th>\n",
       "      <th>Low</th>\n",
       "      <th>Volume</th>\n",
       "      <th>Difference</th>\n",
       "    </tr>\n",
       "    <tr>\n",
       "      <th>Date</th>\n",
       "      <th></th>\n",
       "      <th></th>\n",
       "      <th></th>\n",
       "      <th></th>\n",
       "      <th></th>\n",
       "      <th></th>\n",
       "    </tr>\n",
       "  </thead>\n",
       "  <tbody>\n",
       "    <tr>\n",
       "      <th>2023-03-30</th>\n",
       "      <td>16.70</td>\n",
       "      <td>16.98</td>\n",
       "      <td>17.25</td>\n",
       "      <td>16.61</td>\n",
       "      <td>126.04</td>\n",
       "      <td>-1.30</td>\n",
       "    </tr>\n",
       "    <tr>\n",
       "      <th>2023-03-31</th>\n",
       "      <td>16.94</td>\n",
       "      <td>16.49</td>\n",
       "      <td>16.98</td>\n",
       "      <td>16.20</td>\n",
       "      <td>127.23</td>\n",
       "      <td>1.44</td>\n",
       "    </tr>\n",
       "    <tr>\n",
       "      <th>2023-04-03</th>\n",
       "      <td>17.02</td>\n",
       "      <td>16.82</td>\n",
       "      <td>17.10</td>\n",
       "      <td>16.45</td>\n",
       "      <td>108.14</td>\n",
       "      <td>0.47</td>\n",
       "    </tr>\n",
       "    <tr>\n",
       "      <th>2023-04-04</th>\n",
       "      <td>17.36</td>\n",
       "      <td>17.01</td>\n",
       "      <td>17.39</td>\n",
       "      <td>16.93</td>\n",
       "      <td>97.67</td>\n",
       "      <td>2.00</td>\n",
       "    </tr>\n",
       "    <tr>\n",
       "      <th>2023-04-05</th>\n",
       "      <td>16.86</td>\n",
       "      <td>17.36</td>\n",
       "      <td>17.46</td>\n",
       "      <td>16.86</td>\n",
       "      <td>76.79</td>\n",
       "      <td>-2.88</td>\n",
       "    </tr>\n",
       "    <tr>\n",
       "      <th>...</th>\n",
       "      <td>...</td>\n",
       "      <td>...</td>\n",
       "      <td>...</td>\n",
       "      <td>...</td>\n",
       "      <td>...</td>\n",
       "      <td>...</td>\n",
       "    </tr>\n",
       "    <tr>\n",
       "      <th>2023-06-20</th>\n",
       "      <td>19.04</td>\n",
       "      <td>18.51</td>\n",
       "      <td>19.23</td>\n",
       "      <td>18.39</td>\n",
       "      <td>214.51</td>\n",
       "      <td>2.86</td>\n",
       "    </tr>\n",
       "    <tr>\n",
       "      <th>2023-06-21</th>\n",
       "      <td>19.31</td>\n",
       "      <td>19.22</td>\n",
       "      <td>19.39</td>\n",
       "      <td>18.93</td>\n",
       "      <td>171.88</td>\n",
       "      <td>1.42</td>\n",
       "    </tr>\n",
       "    <tr>\n",
       "      <th>2023-06-22</th>\n",
       "      <td>19.19</td>\n",
       "      <td>19.30</td>\n",
       "      <td>19.55</td>\n",
       "      <td>18.60</td>\n",
       "      <td>439.66</td>\n",
       "      <td>-0.62</td>\n",
       "    </tr>\n",
       "    <tr>\n",
       "      <th>2023-06-23</th>\n",
       "      <td>19.79</td>\n",
       "      <td>19.44</td>\n",
       "      <td>20.14</td>\n",
       "      <td>19.44</td>\n",
       "      <td>255.23</td>\n",
       "      <td>3.13</td>\n",
       "    </tr>\n",
       "    <tr>\n",
       "      <th>2023-06-26</th>\n",
       "      <td>20.42</td>\n",
       "      <td>20.54</td>\n",
       "      <td>20.78</td>\n",
       "      <td>20.24</td>\n",
       "      <td>168.99</td>\n",
       "      <td>3.18</td>\n",
       "    </tr>\n",
       "  </tbody>\n",
       "</table>\n",
       "<p>62 rows × 6 columns</p>\n",
       "</div>"
      ],
      "text/plain": [
       "              Now  Start  Heigh    Low  Volume Difference\n",
       "Date                                                     \n",
       "2023-03-30  16.70  16.98  17.25  16.61  126.04      -1.30\n",
       "2023-03-31  16.94  16.49  16.98  16.20  127.23       1.44\n",
       "2023-04-03  17.02  16.82  17.10  16.45  108.14       0.47\n",
       "2023-04-04  17.36  17.01  17.39  16.93   97.67       2.00\n",
       "2023-04-05  16.86  17.36  17.46  16.86   76.79      -2.88\n",
       "...           ...    ...    ...    ...     ...        ...\n",
       "2023-06-20  19.04  18.51  19.23  18.39  214.51       2.86\n",
       "2023-06-21  19.31  19.22  19.39  18.93  171.88       1.42\n",
       "2023-06-22  19.19  19.30  19.55  18.60  439.66      -0.62\n",
       "2023-06-23  19.79  19.44  20.14  19.44  255.23       3.13\n",
       "2023-06-26  20.42  20.54  20.78  20.24  168.99       3.18\n",
       "\n",
       "[62 rows x 6 columns]"
      ]
     },
     "execution_count": 8,
     "metadata": {},
     "output_type": "execute_result"
    }
   ],
   "source": [
    "df['Volume']= df[\"Volume\"].apply(lambda x: x.split(\"M\")[0])\n",
    "df['Difference']= df[\"Difference\"].apply(lambda x: x.split('%')[0])\n",
    "df = df.applymap(lambda x: x.replace(',', '.'))\n",
    "df=df.sort_index()\n",
    "df"
   ]
  },
  {
   "cell_type": "markdown",
   "id": "16b17972",
   "metadata": {},
   "source": [
    "7-DATA VISUALIZATION\n",
    "\n",
    "Data visualization is an important step for data preprocessing. Because given dataset may contain exact changes because of extraordinary effect, so this can be understood by graphs."
   ]
  },
  {
   "cell_type": "code",
   "execution_count": 9,
   "id": "6fd4247e",
   "metadata": {},
   "outputs": [
    {
     "data": {
      "text/plain": [
       "[<matplotlib.lines.Line2D at 0x1e9aa9403a0>]"
      ]
     },
     "execution_count": 9,
     "metadata": {},
     "output_type": "execute_result"
    },
    {
     "data": {
      "image/png": "[encoded data removed]",
      "text/plain": [
       "<Figure size 640x480 with 2 Axes>"
      ]
     },
     "metadata": {},
     "output_type": "display_data"
    }
   ],
   "source": [
    "plt.title(\"Price Change\")\n",
    "plt.xlabel(\"Date\")\n",
    "plt.ylabel(\"Price\")\n",
    "plt.tick_params(axis='x', which='both', bottom=True, top=True)\n",
    "plt.subplot(1, 2, 1)\n",
    "plt.plot(df['Now'])\n",
    "df=df.drop([pd.to_datetime('2023-04-20'),pd.to_datetime('2023-04-25'),pd.to_datetime('2023-04-26')])\n",
    "plt.subplot(1, 2, 2)\n",
    "plt.plot(df['Now'])"
   ]
  },
  {
   "cell_type": "markdown",
   "id": "d6148103",
   "metadata": {},
   "source": [
    "So we see that there is a extraordinary decrease in share the date between 20/04- 26/04. And we drop this rows from dataset."
   ]
  },
  {
   "cell_type": "markdown",
   "id": "bc4a0e0c",
   "metadata": {},
   "source": [
    "8-DATA CLASSSFYING\n",
    "\n",
    "We have independent and dependent variables for prediction. \n",
    "As we have more than one variable this time series prediction(TSP) is called as multivariate time series."
   ]
  },
  {
   "cell_type": "code",
   "execution_count": 10,
   "id": "bbddac11",
   "metadata": {},
   "outputs": [],
   "source": [
    "#DATA CLASSIFYING FOR INDEPENDENT AND DEPENDENT VARIABLE\n",
    "ind_col=['Start','Heigh','Low']\n",
    "ind_df=df[ind_col].astype(float)\n",
    "dep_df=df['Now'].astype(float)\n",
    "#We seperate dataframe by independent variables and dependent variables for TSP.\n",
    "#And make all columns float for numerical operatio."
   ]
  },
  {
   "cell_type": "markdown",
   "id": "41d7e7c5",
   "metadata": {},
   "source": [
    "9-DATA NORMALIZATION"
   ]
  },
  {
   "cell_type": "code",
   "execution_count": 11,
   "id": "cf698fae",
   "metadata": {},
   "outputs": [
    {
     "name": "stdout",
     "output_type": "stream",
     "text": [
      "trainX shape == (55, 4, 3).\n",
      "trainY shape == (55, 1).\n"
     ]
    }
   ],
   "source": [
    "from sklearn.preprocessing import MinMaxScaler\n",
    "scaler = MinMaxScaler()\n",
    "ind_df_scaled = scaler.fit_transform(ind_df)\n",
    "dep_df_scaled = scaler.fit_transform(dep_df.values.reshape(-1, 1))\n",
    "trainX = []\n",
    "trainY = []\n",
    "\n",
    "n_future = 1   # Number of days we want to look into the future based on the past days.\n",
    "n_past = 4# Number of past days we want to use to predict the future.\n",
    "\n",
    "#Reformat input data into a shape: (n_samples x timesteps x n_features)\n",
    "for i in range(n_past, len(ind_df) - n_future +2):#(4,21,)\n",
    "    if i==(len(df)-n_future+1):\n",
    "        trainX.append(ind_df_scaled[i - n_past:i, 0:ind_df.shape[1]])\n",
    "    else:\n",
    "        trainX.append(ind_df_scaled[i - n_past:i, 0:ind_df.shape[1]])\n",
    "        trainY.append(dep_df_scaled[i + n_future - 1:i + n_future, 0])\n",
    "        \n",
    "trainX, trainY = np.array(trainX), np.array(trainY)\n",
    "trainX_train=trainX[0:(len(trainX)-1)]\n",
    "print('trainX shape == {}.'.format(trainX_train.shape))\n",
    "print('trainY shape == {}.'.format(trainY.shape))\n"
   ]
  },
  {
   "cell_type": "markdown",
   "id": "e66df39c",
   "metadata": {},
   "source": [
    "This step is used for data grouping by independent and dependent variable. We make all data to appropriate by past n timestamps independent variables for next dependent variable."
   ]
  },
  {
   "cell_type": "markdown",
   "id": "ded8498e",
   "metadata": {},
   "source": [
    "MODEL SELECTION"
   ]
  },
  {
   "cell_type": "markdown",
   "id": "55af28be",
   "metadata": {},
   "source": [
    "10-MODEL SELECTING AND EVALUATION"
   ]
  },
  {
   "cell_type": "markdown",
   "id": "26bb0e3e",
   "metadata": {},
   "source": [
    "RNN Modelinin oluşturulması"
   ]
  },
  {
   "cell_type": "code",
   "execution_count": 12,
   "id": "5932208f",
   "metadata": {},
   "outputs": [],
   "source": [
    "from keras.models import Sequential\n",
    "from keras.layers import LSTM, Dense,Dropout, SimpleRNN\n",
    "model = Sequential()\n",
    "model.add(SimpleRNN(64, input_shape=(trainX_train.shape[1], trainX_train.shape[2])))  # SimpleRNN katmanı\n",
    "model.add(Dropout(0.2))\n",
    "model.add(Dense(trainY.shape[1]))  # Çıktı katmanı\n",
    "\n",
    "# Modelin Compilation\n",
    "model.compile(loss='mse', optimizer='adam')\n"
   ]
  },
  {
   "cell_type": "markdown",
   "id": "dfcbdba3",
   "metadata": {},
   "source": [
    "Model consist of A sequantial simpleRNN layer with 64 units. Number of units should be selected in compatible with datasets. If a large number of units are selected then, you may have overfitting problem.\n",
    "And model also one Dropout layer and Dense layer, this are used to overcome overfitting problems and take a appropriate output number. "
   ]
  },
  {
   "cell_type": "markdown",
   "id": "8e837ab2",
   "metadata": {},
   "source": [
    "MODEL COMPILATION"
   ]
  },
  {
   "cell_type": "code",
   "execution_count": 13,
   "id": "3d66cfb2",
   "metadata": {},
   "outputs": [],
   "source": [
    "model.compile(optimizer='adam', loss='mean_squared_error')"
   ]
  },
  {
   "cell_type": "markdown",
   "id": "ae62b3f2",
   "metadata": {},
   "source": [
    "As known recursive neural networks updates the weight matrix in the hidden and output function for each timestamp, and optimizer use different methods. Adam is one of the most popular one by SGD. For a second parameter it calculate mse to compute backpropagation.  "
   ]
  },
  {
   "cell_type": "markdown",
   "id": "42f16de2",
   "metadata": {},
   "source": [
    "MODEL TRAINING"
   ]
  },
  {
   "cell_type": "code",
   "execution_count": 14,
   "id": "00806ead",
   "metadata": {
    "scrolled": true
   },
   "outputs": [
    {
     "name": "stdout",
     "output_type": "stream",
     "text": [
      "Epoch 1/10\n",
      "4/4 - 2s - loss: 0.0819 - val_loss: 0.0100 - 2s/epoch - 463ms/step\n",
      "Epoch 2/10\n",
      "4/4 - 0s - loss: 0.0565 - val_loss: 0.0392 - 58ms/epoch - 15ms/step\n",
      "Epoch 3/10\n",
      "4/4 - 0s - loss: 0.0311 - val_loss: 0.0182 - 49ms/epoch - 12ms/step\n",
      "Epoch 4/10\n",
      "4/4 - 0s - loss: 0.0484 - val_loss: 0.0261 - 52ms/epoch - 13ms/step\n",
      "Epoch 5/10\n",
      "4/4 - 0s - loss: 0.0471 - val_loss: 0.0395 - 57ms/epoch - 14ms/step\n",
      "Epoch 6/10\n",
      "4/4 - 0s - loss: 0.0389 - val_loss: 0.0224 - 47ms/epoch - 12ms/step\n",
      "Epoch 7/10\n",
      "4/4 - 0s - loss: 0.0317 - val_loss: 0.0454 - 53ms/epoch - 13ms/step\n",
      "Epoch 8/10\n",
      "4/4 - 0s - loss: 0.0475 - val_loss: 0.0355 - 54ms/epoch - 14ms/step\n",
      "Epoch 9/10\n",
      "4/4 - 0s - loss: 0.0262 - val_loss: 0.0063 - 46ms/epoch - 12ms/step\n",
      "Epoch 10/10\n",
      "4/4 - 0s - loss: 0.0330 - val_loss: 0.0068 - 47ms/epoch - 12ms/step\n"
     ]
    },
    {
     "data": {
      "text/plain": [
       "<matplotlib.legend.Legend at 0x1e9c5823340>"
      ]
     },
     "execution_count": 14,
     "metadata": {},
     "output_type": "execute_result"
    },
    {
     "data": {
      "image/png": "[encoded data removed]",
      "text/plain": [
       "<Figure size 640x480 with 1 Axes>"
      ]
     },
     "metadata": {},
     "output_type": "display_data"
    }
   ],
   "source": [
    "history = model.fit(trainX_train, trainY, epochs=10, batch_size=16, validation_split=0.1, verbose=2)\n",
    "\n",
    "plt.plot(history.history['loss'], label='Training loss')\n",
    "plt.plot(history.history['val_loss'], label='Validation loss')\n",
    "plt.legend()"
   ]
  },
  {
   "cell_type": "markdown",
   "id": "d46305d5",
   "metadata": {},
   "source": [
    "As it is seen in graphics training loss is increasing while validation loss is decreasing in last two epochs. So we can say the model get rid of overfitting."
   ]
  },
  {
   "cell_type": "markdown",
   "id": "91f45eb3",
   "metadata": {},
   "source": [
    "MODEL PREDICTION"
   ]
  },
  {
   "cell_type": "code",
   "execution_count": 15,
   "id": "0f9b162b",
   "metadata": {},
   "outputs": [
    {
     "name": "stdout",
     "output_type": "stream",
     "text": [
      "1/1 [==============================] - 0s 232ms/step\n"
     ]
    }
   ],
   "source": [
    "\n",
    "\n",
    "n_days_for_prediction=10  #let us predict past 15 days\n",
    "\n",
    "predict_dates=pd.date_range((ind_df.index)[-n_days_for_prediction],periods=n_days_for_prediction+1,freq='B')#İlk parametre ilk tarihtir verilen ilk tarih için değil sonraki günler için zaman üretir. Yani indeximizin -15 incisi listedeki ilk tarihtir.\n",
    "predict_dates=predict_dates[1:]\n",
    "\n",
    "prediction = model.predict(trainX[-n_days_for_prediction:]) \n",
    "\n",
    "prediction=scaler.inverse_transform(prediction)\n"
   ]
  },
  {
   "cell_type": "markdown",
   "id": "33444d21",
   "metadata": {},
   "source": [
    "COMPARISION\n",
    "\n",
    "At last step, we compare the real bank share values by the prediction values. "
   ]
  },
  {
   "cell_type": "code",
   "execution_count": 16,
   "id": "bf113ac0",
   "metadata": {},
   "outputs": [
    {
     "name": "stdout",
     "output_type": "stream",
     "text": [
      "The predict now price for 2023-06-14 00:00:00 is [18.788069] and real value is 18.37\n",
      "The predict now price for 2023-06-15 00:00:00 is [18.78458] and real value is 19.23\n",
      "The predict now price for 2023-06-16 00:00:00 is [19.103811] and real value is 18.89\n",
      "The predict now price for 2023-06-19 00:00:00 is [19.56085] and real value is 18.51\n",
      "The predict now price for 2023-06-20 00:00:00 is [19.528038] and real value is 19.04\n",
      "The predict now price for 2023-06-21 00:00:00 is [19.255093] and real value is 19.31\n",
      "The predict now price for 2023-06-22 00:00:00 is [19.368504] and real value is 19.19\n",
      "The predict now price for 2023-06-23 00:00:00 is [19.700464] and real value is 19.79\n",
      "The predict now price for 2023-06-26 00:00:00 is [19.843363] and real value is 20.42\n",
      "The predict now price for 2023-06-27 00:00:00 is [20.333782] and real value is not known yet.\n"
     ]
    }
   ],
   "source": [
    "# Convert timestamp to date\n",
    "forecast_dates = []\n",
    "i=0\n",
    "for time_i in predict_dates:\n",
    "    i=i+1\n",
    "    if i==n_days_for_prediction:\n",
    "        print(f'The predict now price for {time_i} is {prediction[i-1]} and real value is not known yet.')\n",
    "    else:   \n",
    "        forecast_dates.append(time_i.date())\n",
    "        print(f'The predict now price for {time_i} is {prediction[i-1]} and real value is {df.at[time_i,\"Now\"]}')\n",
    "\n"
   ]
  },
  {
   "cell_type": "markdown",
   "id": "44387c6e",
   "metadata": {},
   "source": [
    "Note: The real value for the 2023-06-27 day was 20.20 ."
   ]
  }
 ],
 "metadata": {
  "kernelspec": {
   "display_name": "Python 3 (ipykernel)",
   "language": "python",
   "name": "python3"
  },
  "language_info": {
   "codemirror_mode": {
    "name": "ipython",
    "version": 3
   },
   "file_extension": ".py",
   "mimetype": "text/x-python",
   "name": "python",
   "nbconvert_exporter": "python",
   "pygments_lexer": "ipython3",
   "version": "3.10.5"
  }
 },
 "nbformat": 4,
 "nbformat_minor": 5
}
